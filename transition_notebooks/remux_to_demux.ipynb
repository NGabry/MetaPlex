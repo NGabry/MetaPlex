{
 "cells": [
  {
   "cell_type": "code",
   "execution_count": null,
   "id": "b7d06e3a",
   "metadata": {},
   "outputs": [],
   "source": [
    "from qiime2 import Artifact, Metadata, Visualization\n",
    "from qiime2.plugins import cutadapt\n",
    "from qiime2.plugins.demux.visualizers import summarize"
   ]
  },
  {
   "cell_type": "code",
   "execution_count": null,
   "id": "988976d0",
   "metadata": {},
   "outputs": [],
   "source": [
    "# Read in Sample Map\n",
    "metadata = Metadata.load('../sample_data/IndexJumping/Sample_Map.txt')"
   ]
  },
  {
   "cell_type": "code",
   "execution_count": null,
   "id": "75d49442",
   "metadata": {},
   "outputs": [],
   "source": [
    "# Import Remultiplexed Sequences\n",
    "remux = Artifact.import_data('MultiplexedSingleEndBarcodeInSequence', '../Remultiplexing/remultiplexed_seqs.fastq.gz')\n",
    "\n",
    "# remux.save('remultiplexed_seqs.qza')"
   ]
  },
  {
   "cell_type": "code",
   "execution_count": null,
   "id": "fb2d1195",
   "metadata": {},
   "outputs": [],
   "source": [
    "# Demultiplex the Sequences\n",
    "demux, untrimmed = cutadapt.methods.demux_single(remux, \n",
    "                                                 metadata.get_column('BarcodeSequence'), \n",
    "                                                 error_rate = 0)\n",
    "d = summarize(demux)\n",
    "d.visualization\n",
    "demux.save('../sample_data/IndexJumping/demultiplexed_seqs.qza')"
   ]
  },
  {
   "cell_type": "code",
   "execution_count": null,
   "id": "45e5e392",
   "metadata": {},
   "outputs": [],
   "source": [
    "# Primer Trimming\n",
    "# NOT DONE IN THIS EXAMPLE, BUT SHOULD BE DONE IN TRUE ANALYSIS\n",
    "#Trimming ANML primers off the demultiplexed reads\n",
    "ANML_primers = [\"^GGTCAACAAATCATAAAGATATTGG...GGATTTGGAAATTGATTAGTWCCATC\"]\n",
    "\n",
    "trimmed_demux = cutadapt.methods.trim_single(demux, \n",
    "                                        cores=16, \n",
    "                                        adapter = ANML_primers, \n",
    "                                        indels = True,\n",
    "                                        minimum_length = 170, \n",
    "                                        discard_untrimmed = True)\n",
    "trimmed_demux = trimmed_demux.trimmed_sequences\n",
    "# trimmed_demux.save('trimmed_demux.qza')"
   ]
  }
 ],
 "metadata": {
  "kernelspec": {
   "display_name": "Python 3 (ipykernel)",
   "language": "python",
   "name": "python3"
  },
  "language_info": {
   "codemirror_mode": {
    "name": "ipython",
    "version": 3
   },
   "file_extension": ".py",
   "mimetype": "text/x-python",
   "name": "python",
   "nbconvert_exporter": "python",
   "pygments_lexer": "ipython3",
   "version": "3.8.13"
  }
 },
 "nbformat": 4,
 "nbformat_minor": 5
}
