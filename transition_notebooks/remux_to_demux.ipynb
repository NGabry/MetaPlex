{
 "cells": [
  {
   "cell_type": "code",
   "execution_count": 7,
   "id": "b7d06e3a",
   "metadata": {},
   "outputs": [],
   "source": [
    "from qiime2 import Artifact, Metadata, Visualization\n",
    "from qiime2.plugins import cutadapt\n",
    "from qiime2.plugins.demux.visualizers import summarize"
   ]
  },
  {
   "cell_type": "code",
   "execution_count": 8,
   "id": "988976d0",
   "metadata": {},
   "outputs": [],
   "source": [
    "# Read in Sample Map\n",
    "metadata = Metadata.load('../IndexJumping/Sample_Map.txt')"
   ]
  },
  {
   "cell_type": "code",
   "execution_count": 9,
   "id": "75d49442",
   "metadata": {},
   "outputs": [],
   "source": [
    "# Import Remultiplexed Sequences\n",
    "remux = Artifact.import_data('MultiplexedSingleEndBarcodeInSequence', '../Remultiplexing/remultiplexed_seqs.fastq.gz')\n",
    "\n",
    "# remux.save('remultiplexed_seqs.qza')"
   ]
  },
  {
   "cell_type": "code",
   "execution_count": null,
   "id": "fb2d1195",
   "metadata": {},
   "outputs": [
    {
     "name": "stdout",
     "output_type": "stream",
     "text": [
      "Running external command line application. This may print messages to stdout and/or stderr.\n",
      "The command being run is below. This command cannot be manually re-run as it will depend on temporary files that no longer exist.\n",
      "\n",
      "Command: cutadapt --front file:/var/folders/hh/1l3l9sld7h5dffby9kzw1ptc0000gn/T/tmpw9iiog3_ --error-rate 0 --minimum-length 1 -o /var/folders/hh/1l3l9sld7h5dffby9kzw1ptc0000gn/T/q2-CasavaOneEightSingleLanePerSampleDirFmt-tqoe9qeq/{name}.1.fastq.gz --untrimmed-output /var/folders/hh/1l3l9sld7h5dffby9kzw1ptc0000gn/T/q2-MultiplexedSingleEndBarcodeInSequenceDirFmt-9gnescd_/forward.fastq.gz /var/folders/hh/1l3l9sld7h5dffby9kzw1ptc0000gn/T/qiime2-archive-aef353a5/5c83b628-05e0-4d58-b43b-59878f2daa4f/data/forward.fastq.gz\n",
      "\n",
      "This is cutadapt 3.5 with Python 3.8.12\n",
      "Command line parameters: --front file:/var/folders/hh/1l3l9sld7h5dffby9kzw1ptc0000gn/T/tmpw9iiog3_ --error-rate 0 --minimum-length 1 -o /var/folders/hh/1l3l9sld7h5dffby9kzw1ptc0000gn/T/q2-CasavaOneEightSingleLanePerSampleDirFmt-tqoe9qeq/{name}.1.fastq.gz --untrimmed-output /var/folders/hh/1l3l9sld7h5dffby9kzw1ptc0000gn/T/q2-MultiplexedSingleEndBarcodeInSequenceDirFmt-9gnescd_/forward.fastq.gz /var/folders/hh/1l3l9sld7h5dffby9kzw1ptc0000gn/T/qiime2-archive-aef353a5/5c83b628-05e0-4d58-b43b-59878f2daa4f/data/forward.fastq.gz\n",
      "Processing reads on 1 core in single-end mode ...\n"
     ]
    }
   ],
   "source": [
    "# Demultiplex the Sequences\n",
    "demux, untrimmed = cutadapt.methods.demux_single(remux, \n",
    "                                                 metadata.get_column('BarcodeSequence'), \n",
    "                                                 error_rate = 0)\n",
    "d = summarize(demux)\n",
    "d.visualization\n",
    "demux.save('../IndexJumping/demultiplexed_seqs.qza')"
   ]
  },
  {
   "cell_type": "code",
   "execution_count": null,
   "id": "45e5e392",
   "metadata": {},
   "outputs": [],
   "source": [
    "# Primer Trimming\n",
    "# NOT DONE IN THIS EXAMPLE, BUT SHOULD BE DONE IN TRUE ANALYSIS\n",
    "#Trimming ANML primers off the demultiplexed reads\n",
    "ANML_primers = [\"^GGTCAACAAATCATAAAGATATTGG...GGATTTGGAAATTGATTAGTWCCATC\"]\n",
    "\n",
    "trimmed_demux = cutadapt.methods.trim_single(demux, \n",
    "                                        cores=16, \n",
    "                                        adapter = ANML_primers, \n",
    "                                        indels = True,\n",
    "                                        minimum_length = 170, \n",
    "                                        discard_untrimmed = True)\n",
    "trimmed_demux = trimmed_demux.trimmed_sequences\n",
    "# trimmed_demux.save('trimmed_demux.qza')"
   ]
  }
 ],
 "metadata": {
  "kernelspec": {
   "display_name": "Python 3 (ipykernel)",
   "language": "python",
   "name": "python3"
  },
  "language_info": {
   "codemirror_mode": {
    "name": "ipython",
    "version": 3
   },
   "file_extension": ".py",
   "mimetype": "text/x-python",
   "name": "python",
   "nbconvert_exporter": "python",
   "pygments_lexer": "ipython3",
   "version": "3.8.12"
  }
 },
 "nbformat": 4,
 "nbformat_minor": 5
}
