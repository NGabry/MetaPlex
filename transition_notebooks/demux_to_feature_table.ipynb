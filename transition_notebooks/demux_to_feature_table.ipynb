{
 "cells": [
  {
   "cell_type": "code",
   "execution_count": null,
   "id": "755d671b",
   "metadata": {},
   "outputs": [],
   "source": [
    "import pathlib\n",
    "import sys\n",
    "import shutil\n",
    "import tempfile\n",
    "import os\n",
    "import subprocess\n",
    "import csv\n",
    "import biom\n",
    "import numpy as np\n",
    "import pandas as pd\n",
    "from qiime2 import Artifact, Metadata\n",
    "from qiime2.plugins import cutadapt \n",
    "from qiime2.plugins.demux.visualizers import summarize\n",
    "from qiime2.plugins.dada2.methods import denoise_single\n",
    "from qiime2.plugins.feature_table.visualizers import summarize as summarize_table"
   ]
  },
  {
   "cell_type": "code",
   "execution_count": null,
   "id": "e4fbb431",
   "metadata": {},
   "outputs": [],
   "source": [
    "metadata = Metadata.load('../sample_data/IndexJumping/Sample_Map.txt')\n",
    "demux = Artifact.load('../sample_data/IndexJumping/demultiplexed_seqs.qza')"
   ]
  },
  {
   "cell_type": "code",
   "execution_count": null,
   "id": "17aedb47",
   "metadata": {},
   "outputs": [],
   "source": [
    "#Trimming ANML primers off the demultiplexed reads\n",
    "ANML_primers = [\"^GGTCAACAAATCATAAAGATATTGG...GGATTTGGAAATTGATTAGTWCCATC\"]\n",
    "\n",
    "trimmed_demux = cutadapt.methods.trim_single(demux, \n",
    "                                             cores=16, \n",
    "                                             adapter = ANML_primers, \n",
    "                                             indels = True,\n",
    "                                             minimum_length = 170, \n",
    "                                             discard_untrimmed = True)\n"
   ]
  },
  {
   "cell_type": "code",
   "execution_count": null,
   "id": "1750582b",
   "metadata": {},
   "outputs": [],
   "source": [
    "summarize(trimmed_demux.trimmed_sequences).visualization"
   ]
  },
  {
   "cell_type": "code",
   "execution_count": null,
   "id": "4892883e",
   "metadata": {},
   "outputs": [],
   "source": [
    "#DADA2\n",
    "feature_table, rep_seqs, stats = denoise_single(trimmed_demux.trimmed_sequences,\n",
    "                                                trunc_len = 0, \n",
    "                                                n_threads = 0)"
   ]
  },
  {
   "cell_type": "code",
   "execution_count": null,
   "id": "b50bd6c8",
   "metadata": {},
   "outputs": [],
   "source": [
    "feature_table.save('../sample_data/PerSampleFiltering/feature_table.qza')\n",
    "summarize_table(feature_table).visualization"
   ]
  },
  {
   "cell_type": "code",
   "execution_count": null,
   "id": "8a6d9055",
   "metadata": {},
   "outputs": [],
   "source": [
    "# Extract .biom from feature table file if necessary\n",
    "def extract_all(file, dest):\n",
    "    with tempfile.TemporaryDirectory() as temp:\n",
    "        file.export_data(temp)\n",
    "        temp_pathlib = pathlib.Path(temp)\n",
    "        for file in temp_pathlib.iterdir():\n",
    "            shutil.copy(file, dest)\n",
    "extract_all(feature_table, 'out')"
   ]
  }
 ],
 "metadata": {
  "kernelspec": {
   "display_name": "Python 3 (ipykernel)",
   "language": "python",
   "name": "python3"
  },
  "language_info": {
   "codemirror_mode": {
    "name": "ipython",
    "version": 3
   },
   "file_extension": ".py",
   "mimetype": "text/x-python",
   "name": "python",
   "nbconvert_exporter": "python",
   "pygments_lexer": "ipython3",
   "version": "3.8.13"
  }
 },
 "nbformat": 4,
 "nbformat_minor": 5
}
