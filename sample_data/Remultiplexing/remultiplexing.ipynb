{
 "cells": [
  {
   "cell_type": "code",
   "execution_count": 1,
   "id": "8e89e5e2",
   "metadata": {},
   "outputs": [],
   "source": [
    "import os\n",
    "import subprocess\n",
    "import pandas as pd\n",
    "import sys"
   ]
  },
  {
   "cell_type": "code",
   "execution_count": null,
   "id": "979fe4a9",
   "metadata": {},
   "outputs": [],
   "source": [
    "# Setting path to raw sequence file \n",
    "sequenceFile = 'raw_seqs.fastq.gz'"
   ]
  },
  {
   "cell_type": "code",
   "execution_count": null,
   "id": "6b78e30c",
   "metadata": {},
   "outputs": [],
   "source": [
    "# Read in indexes csv, and convert Forward indexes to dictionary\n",
    "df = pd.read_csv(indexFile, dtype=str)\n",
    "df['ID_ori'] = (df['orientation'] + df['ID'])\n",
    "f_df = df[df['orientation'] == 'F']\n",
    "fwd_indexes = dict(zip(f_df.ID_ori, f_df.seq))"
   ]
  },
  {
   "cell_type": "code",
   "execution_count": null,
   "id": "c9f25280",
   "metadata": {},
   "outputs": [],
   "source": [
    "# Organizing by Forward Index\n",
    "f = open('fwd_sort.txt', 'w')\n",
    "for k in fwd_indexes:\n",
    "    fwd_sort = str('cutadapt -g '+fwd_indexes[k]+' --discard-untrimmed -e 0 -j 0 --overlap 10 -o '\n",
    "               +k+'.fastq '+sequenceFile)\n",
    "    subprocess.run(fwd_sort, shell=True, stdout=f)\n",
    "\n",
    "os.system('find . -type f -size 0 -delete')"
   ]
  },
  {
   "cell_type": "code",
   "execution_count": null,
   "id": "6be4ce50",
   "metadata": {},
   "outputs": [],
   "source": [
    "# Convert Reverse barcodes to dictionary\n",
    "r_df = df[df['orientation'] == 'R']\n",
    "rev_indexes = dict(zip(r_df.ID_ori, r_df.seq))\n",
    "\n",
    "fastqs = []\n",
    "for file in os.listdir('.'):\n",
    "    if len(file) == 9 and file.endswith('fastq'):\n",
    "        fastqs.append(file)"
   ]
  },
  {
   "cell_type": "code",
   "execution_count": null,
   "id": "be384181",
   "metadata": {},
   "outputs": [],
   "source": [
    "# Iterating over each Forward Index to then organize by Reverse index\n",
    "f = open('rev_sort.txt', 'w')\n",
    "for fastq in fastqs:\n",
    "    for k in rev_indexes:\n",
    "        rev_sort = str('cutadapt -a '+rev_indexes[k]+'$ --discard-untrimmed -e 0 -j 0 --overlap 10 -o '\n",
    "                       +fastq[0:3]+k+'.fastq '+fastq)\n",
    "        subprocess.run(rev_sort, shell=True, stdout=f)\n",
    "\n",
    "os.system('find . -type f -size 0 -delete')"
   ]
  },
  {
   "cell_type": "code",
   "execution_count": null,
   "id": "9e393248",
   "metadata": {},
   "outputs": [],
   "source": [
    "# Create dictionary for merged Fwd and Rev idnexes\n",
    "merged_indexes = {}\n",
    "for k_a, v_a in fwd_indexes.items():\n",
    "    for k_b, v_b in rev_indexes.items():\n",
    "        merged_indexes[k_a + k_b] = v_a + v_b \n",
    "\n",
    "fastqs = []\n",
    "for fastq in os.listdir('.'):\n",
    "    if len(fastq) == 12 and fastq.endswith('fastq'):\n",
    "        fastqs.append(fastq)"
   ]
  },
  {
   "cell_type": "code",
   "execution_count": null,
   "id": "f11bdd02",
   "metadata": {},
   "outputs": [],
   "source": [
    "# Prepending each read with the appropriate merged index as indicated by file name\n",
    "fastqs.sort()\n",
    "for fastq in fastqs:\n",
    "    for k, v in merged_indexes.items():\n",
    "        if fastq[0:6] == k:\n",
    "            with open(fastq, 'r') as f, open('remultiplexed_seqs.fastq', 'a+') as out:\n",
    "                count = 0 \n",
    "                for idx, line in enumerate(f.read().splitlines()):\n",
    "                    count += 1\n",
    "                    if count == 2:\n",
    "                        print(v+line, file=out)\n",
    "                    elif count == 4:\n",
    "                        print(''.join(['I']*len(v))+line, file=out)\n",
    "                    else:\n",
    "                        print(line, file=out)\n",
    "                    if count == 4:\n",
    "                        count = 0\n",
    "        else:\n",
    "            continue"
   ]
  }
 ],
 "metadata": {
  "kernelspec": {
   "display_name": "Python 3 (ipykernel)",
   "language": "python",
   "name": "python3"
  },
  "language_info": {
   "codemirror_mode": {
    "name": "ipython",
    "version": 3
   },
   "file_extension": ".py",
   "mimetype": "text/x-python",
   "name": "python",
   "nbconvert_exporter": "python",
   "pygments_lexer": "ipython3",
   "version": "3.8.13"
  }
 },
 "nbformat": 4,
 "nbformat_minor": 5
}
