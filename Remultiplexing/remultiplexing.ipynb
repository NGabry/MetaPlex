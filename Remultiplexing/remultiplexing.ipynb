{
 "cells": [
  {
   "cell_type": "code",
   "execution_count": 4,
   "id": "a9a0664d",
   "metadata": {},
   "outputs": [],
   "source": [
    "import os\n",
    "import subprocess\n",
    "import csv"
   ]
  },
  {
   "cell_type": "code",
   "execution_count": 2,
   "id": "75d691f0",
   "metadata": {},
   "outputs": [],
   "source": [
    "#Create List of .bam files\n",
    "\n",
    "bams = []\n",
    "\n",
    "for file in os.listdir('.'):\n",
    "    if file.endswith('.bam'):\n",
    "        bams.append(file)"
   ]
  },
  {
   "cell_type": "code",
   "execution_count": null,
   "outputs": [],
   "source": [],
   "metadata": {
    "collapsed": false,
    "pycharm": {
     "name": "#%%\n"
    }
   }
  },
  {
   "cell_type": "code",
   "execution_count": 3,
   "id": "edf11b13",
   "metadata": {
    "collapsed": true
   },
   "outputs": [
    {
     "name": "stderr",
     "output_type": "stream",
     "text": [
      "[M::bam2fq_mainloop] discarded 0 singletons\n",
      "[M::bam2fq_mainloop] processed 451347 reads\n"
     ]
    },
    {
     "data": {
      "text/plain": [
       "CompletedProcess(args='samtools fastq subsample.bam > raw_seqs.fastq', returncode=0)"
      ]
     },
     "execution_count": 3,
     "metadata": {},
     "output_type": "execute_result"
    }
   ],
   "source": [
    "#Convert full bam to fastq format \n",
    "\n",
    "convert = str('samtools fastq '+bams[0]+' > raw_seqs.fastq')\n",
    "subprocess.run(convert, shell=True)"
   ]
  },
  {
   "cell_type": "code",
   "execution_count": 4,
   "id": "58c72f65",
   "metadata": {
    "collapsed": true
   },
   "outputs": [
    {
     "data": {
      "text/plain": [
       "0"
      ]
     },
     "execution_count": 4,
     "metadata": {},
     "output_type": "execute_result"
    }
   ],
   "source": [
    "Fwd_bcs = {'01':'CTAAGGTAACGAT', \n",
    "           '02':'TAAGGAGAACGAT', \n",
    "           '03':'AAGAGGATTCGAT', \n",
    "           '04':'TCGCAATTACGAT',\n",
    "           '05':'CAGAAGGAACGAT',\n",
    "           '06':'CTGCAAGTTCGAT',\n",
    "           '07':'TTCGTGATTCGAT',\n",
    "           '08':'TTCCGATAACGAT',\n",
    "           '09':'TGAGCGGAACGAT',\n",
    "           '10':'CTGACCGAACGAT',}\n",
    "\n",
    "f = open('fwd_sort.txt', 'w')\n",
    "for k in Fwd_bcs:\n",
    "    fwd_sort = str('cutadapt -g '+Fwd_bcs[k]+' --discard-untrimmed -e 0 -j 0 --overlap 10 -o F'\n",
    "               +k+'.fastq raw_seqs.fastq')\n",
    "    subprocess.run(fwd_sort, shell=True, stdout=f)\n",
    "\n",
    "os.system('find . -type f -size 0 -delete')"
   ]
  },
  {
   "cell_type": "code",
   "execution_count": 5,
   "id": "84cb3898",
   "metadata": {
    "collapsed": true
   },
   "outputs": [
    {
     "data": {
      "text/plain": [
       "0"
      ]
     },
     "execution_count": 5,
     "metadata": {},
     "output_type": "execute_result"
    }
   ],
   "source": [
    "#Running cutadapt for the reverse compliment of each REV index\n",
    "    #Trim past 3 prime end and save into new file based on F+R barcodes \n",
    "    \n",
    "Rev_bcs = {'11':'GATTCGAGGA', \n",
    "           '12':'GAACCACCTA', \n",
    "           '13':'GTCCGTTAGA', \n",
    "           '14':'GACACTCCAA',\n",
    "           '15':'GACCTCTAGA',\n",
    "           '16':'GTCATCCAGA',\n",
    "           '17':'GACGAATAGA',\n",
    "           '18':'GCAATTGCCT',\n",
    "           '19':'GTCCGACTAA',\n",
    "           '20':'GATGGATCTG'}\n",
    "\n",
    "fastqs = []\n",
    "for file in os.listdir('.'):\n",
    "    if len(file) == 9 and file.endswith('fastq'): \n",
    "        fastqs.append(file)\n",
    "\n",
    "f = open('rev_sort.txt', 'w')\n",
    "for fastq in fastqs:\n",
    "    for k in Rev_bcs:\n",
    "        rev_sort = str('cutadapt -a '+Rev_bcs[k]+' --discard-untrimmed -e 0 -j 0 --overlap 10 -o '\n",
    "                       +fastq[0:3]+'R'+k+'.fastq '+fastq)\n",
    "        subprocess.run(rev_sort, shell=True, stdout=f)\n",
    "        \n",
    "os.system('find . -type f -size 0 -delete')"
   ]
  },
  {
   "cell_type": "code",
   "execution_count": 6,
   "id": "c886935a",
   "metadata": {
    "collapsed": true
   },
   "outputs": [],
   "source": [
    "#'Re-Multiplex', or combine the reverse index (trimmed off above) with the original forward index\n",
    "# creating a single 20bp barcode at the beginning of each read\n",
    "# also concatenates everything into one 'All_Seqs.fastq'\n",
    "\n",
    "#Dictionary of all ID & 20bp index/barcode combos \n",
    "reader = csv.reader(open('20bp_bcs_1-20.csv', 'r', encoding='utf-8-sig'))\n",
    "bcs_20bp = {}\n",
    "for row in reader:\n",
    "    k, v = row\n",
    "    bcs_20bp[k] = v \n",
    "\n",
    "    fastqs = []\n",
    "for fastq in os.listdir('.'):\n",
    "    if len(fastq) == 12 and fastq.endswith('fastq'):\n",
    "        fastqs.append(fastq)\n",
    "        \n",
    "fastqs.sort()\n",
    "\n",
    "\n",
    "for fastq in fastqs:\n",
    "    for k ,v in bcs_20bp.items():\n",
    "        if fastq[0:6] == k:\n",
    "            with open(fastq, 'r') as f, open('all_seqs.fastq', 'a+') as out:\n",
    "                count = 0\n",
    "                for idx, line in enumerate(f.read().splitlines()):\n",
    "                    count += 1\n",
    "                    if count == 2:\n",
    "                        print(v+line, file=out)\n",
    "                    elif count == 4:\n",
    "                        print(''.join(['I']*len(v))+line, file=out)\n",
    "                    else:\n",
    "                        print(line, file=out)\n",
    "                    if count == 4:\n",
    "                        count = 0\n",
    "        else:\n",
    "            continue"
   ]
  },
  {
   "cell_type": "code",
   "execution_count": 49,
   "id": "a25e9cc2",
   "metadata": {
    "collapsed": true
   },
   "outputs": [
    {
     "data": {
      "text/plain": [
       "0"
      ]
     },
     "execution_count": 49,
     "metadata": {},
     "output_type": "execute_result"
    }
   ],
   "source": [
    "#Prepare for Qiime2 Import            \n",
    "#os.system('gzip all_seqs.fastq')"
   ]
  },
  {
   "cell_type": "code",
   "execution_count": 7,
   "id": "478ebfe3",
   "metadata": {
    "collapsed": true
   },
   "outputs": [
    {
     "data": {
      "text/plain": [
       "0"
      ]
     },
     "execution_count": 7,
     "metadata": {},
     "output_type": "execute_result"
    }
   ],
   "source": [
    "#Clean-up Steps\n",
    "os.system('mkdir fastqs')\n",
    "os.system('mv F*.fastq fastqs| mv fwd_sort.txt fastqs| mv rev_sort.txt fastqs | rm raw_seqs.fastq')"
   ]
  }
 ],
 "metadata": {
  "kernelspec": {
   "display_name": "Python 3 (ipykernel)",
   "language": "python",
   "name": "python3"
  },
  "language_info": {
   "codemirror_mode": {
    "name": "ipython",
    "version": 3
   },
   "file_extension": ".py",
   "mimetype": "text/x-python",
   "name": "python",
   "nbconvert_exporter": "python",
   "pygments_lexer": "ipython3",
   "version": "3.8.12"
  }
 },
 "nbformat": 4,
 "nbformat_minor": 5
}